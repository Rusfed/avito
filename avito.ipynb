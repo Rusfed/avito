{
 "cells": [
  {
   "cell_type": "code",
   "execution_count": 1,
   "metadata": {},
   "outputs": [],
   "source": [
    "#загрузка нужных библиотек\n",
    "import numpy as np \n",
    "import pandas as pd \n",
    "\n",
    "import matplotlib.pyplot as plt\n",
    "import seaborn as sns\n",
    "\n",
    "\n",
    "from sklearn.feature_extraction.text import TfidfVectorizer\n",
    "from sklearn.svm import LinearSVC\n",
    "from sklearn.model_selection import cross_val_score\n",
    "from scipy.sparse import hstack\n",
    "from sklearn.metrics import accuracy_score\n",
    "from sklearn.naive_bayes import MultinomialNB\n",
    "from sklearn.model_selection import train_test_split "
   ]
  },
  {
   "cell_type": "code",
   "execution_count": 2,
   "metadata": {},
   "outputs": [],
   "source": [
    "# данные для обучения и проверки модели\n",
    "train = pd.read_csv('train.csv')\n",
    "test = pd.read_csv('test.csv')"
   ]
  },
  {
   "cell_type": "code",
   "execution_count": 105,
   "metadata": {},
   "outputs": [
    {
     "data": {
      "text/html": [
       "<div>\n",
       "<style scoped>\n",
       "    .dataframe tbody tr th:only-of-type {\n",
       "        vertical-align: middle;\n",
       "    }\n",
       "\n",
       "    .dataframe tbody tr th {\n",
       "        vertical-align: top;\n",
       "    }\n",
       "\n",
       "    .dataframe thead th {\n",
       "        text-align: right;\n",
       "    }\n",
       "</style>\n",
       "<table border=\"1\" class=\"dataframe\">\n",
       "  <thead>\n",
       "    <tr style=\"text-align: right;\">\n",
       "      <th></th>\n",
       "      <th>item_id</th>\n",
       "      <th>title</th>\n",
       "      <th>description</th>\n",
       "      <th>price</th>\n",
       "      <th>category_id</th>\n",
       "    </tr>\n",
       "  </thead>\n",
       "  <tbody>\n",
       "    <tr>\n",
       "      <th>0</th>\n",
       "      <td>0</td>\n",
       "      <td>Картина</td>\n",
       "      <td>Гобелен. Размеры 139х84см.</td>\n",
       "      <td>1000.0</td>\n",
       "      <td>19</td>\n",
       "    </tr>\n",
       "    <tr>\n",
       "      <th>1</th>\n",
       "      <td>1</td>\n",
       "      <td>Стулья из прессованной кожи</td>\n",
       "      <td>Продам недорого 4 стула из светлой прессованно...</td>\n",
       "      <td>1250.0</td>\n",
       "      <td>22</td>\n",
       "    </tr>\n",
       "    <tr>\n",
       "      <th>2</th>\n",
       "      <td>2</td>\n",
       "      <td>Домашняя мини баня</td>\n",
       "      <td>Мини баня МБ-1(мини сауна), предназначена для ...</td>\n",
       "      <td>13000.0</td>\n",
       "      <td>37</td>\n",
       "    </tr>\n",
       "    <tr>\n",
       "      <th>3</th>\n",
       "      <td>3</td>\n",
       "      <td>Эксклюзивная коллекция книг \"Трансаэро\" + подарок</td>\n",
       "      <td>Продам эксклюзивную коллекцию книг, выпущенную...</td>\n",
       "      <td>4000.0</td>\n",
       "      <td>43</td>\n",
       "    </tr>\n",
       "    <tr>\n",
       "      <th>4</th>\n",
       "      <td>4</td>\n",
       "      <td>Ноутбук aser</td>\n",
       "      <td>Продаётся ноутбук ACER e5-511C2TA. Куплен в ко...</td>\n",
       "      <td>19000.0</td>\n",
       "      <td>1</td>\n",
       "    </tr>\n",
       "  </tbody>\n",
       "</table>\n",
       "</div>"
      ],
      "text/plain": [
       "   item_id                                              title  \\\n",
       "0        0                                            Картина   \n",
       "1        1                        Стулья из прессованной кожи   \n",
       "2        2                                 Домашняя мини баня   \n",
       "3        3  Эксклюзивная коллекция книг \"Трансаэро\" + подарок   \n",
       "4        4                                       Ноутбук aser   \n",
       "\n",
       "                                         description    price  category_id  \n",
       "0                         Гобелен. Размеры 139х84см.   1000.0           19  \n",
       "1  Продам недорого 4 стула из светлой прессованно...   1250.0           22  \n",
       "2  Мини баня МБ-1(мини сауна), предназначена для ...  13000.0           37  \n",
       "3  Продам эксклюзивную коллекцию книг, выпущенную...   4000.0           43  \n",
       "4  Продаётся ноутбук ACER e5-511C2TA. Куплен в ко...  19000.0            1  "
      ]
     },
     "execution_count": 105,
     "metadata": {},
     "output_type": "execute_result"
    }
   ],
   "source": [
    "# визуально оценим данные\n",
    "train.head()"
   ]
  },
  {
   "cell_type": "code",
   "execution_count": 4,
   "metadata": {},
   "outputs": [],
   "source": [
    "# соединим стобцы title и description (разделяя их пробелом во избежании склеивания слов на границе) для дальнейшего удобства\n",
    "# задания словаря и обучения\n",
    "train_text = train['title'] + ' ' + train['description']\n",
    "test_text = test['title'] + ' ' + test['description']"
   ]
  },
  {
   "cell_type": "markdown",
   "metadata": {},
   "source": [
    "На данным этапе применим алгоритм TfidfVectorizer() для преобразования нашего текствого значения стобцов title и description в sparse матрицу, где каждый стобец соответствует слову нашего \"словаря\", а строка соотвествует номеру строчки объявления из данных train. Каждая ячейка содержит число, которое характеризуется следуюшими позициями: кол-во раз, которое слово встретилось в строке умноженное на обратную пропорциональность встречаемости в разных текстах. Это и есть суть метода TF-IDF. Получили своеобразный \"мешок слов\".\n",
    "Относительно специфики применения: проанализиуем только слова"
   ]
  },
  {
   "cell_type": "code",
   "execution_count": 5,
   "metadata": {},
   "outputs": [],
   "source": [
    "word_vectorizer = TfidfVectorizer(sublinear_tf=True,analyzer='word',lowercase=True)\n",
    "word_vectorizer.fit(train_text)\n",
    "train_word_features = word_vectorizer.fit_transform(train_text)\n",
    "test_word_features = word_vectorizer.transform(test_text)"
   ]
  },
  {
   "cell_type": "code",
   "execution_count": 6,
   "metadata": {},
   "outputs": [],
   "source": [
    "# выделим целевую переменную\n",
    "train_target = train['category_id']"
   ]
  },
  {
   "cell_type": "code",
   "execution_count": 7,
   "metadata": {},
   "outputs": [
    {
     "data": {
      "text/plain": [
       "<489517x508666 sparse matrix of type '<class 'numpy.float64'>'\n",
       "\twith 15745105 stored elements in Compressed Sparse Row format>"
      ]
     },
     "execution_count": 7,
     "metadata": {},
     "output_type": "execute_result"
    }
   ],
   "source": [
    "train_word_features"
   ]
  },
  {
   "cell_type": "code",
   "execution_count": 8,
   "metadata": {},
   "outputs": [
    {
     "data": {
      "text/plain": [
       "((342661, 508666), (146856, 508666), (342661,), (146856,))"
      ]
     },
     "execution_count": 8,
     "metadata": {},
     "output_type": "execute_result"
    }
   ],
   "source": [
    "# разделим наш train на обучающую и тестовую выборки\n",
    "X_train, X_test,y_train, y_test=train_test_split(train_word_features,train_target, test_size= 0.33, random_state=241)\n",
    "\n",
    "X_train.shape, X_test.shape, y_train.shape, y_test.shape"
   ]
  },
  {
   "cell_type": "code",
   "execution_count": 13,
   "metadata": {},
   "outputs": [
    {
     "data": {
      "text/plain": [
       "0.8586642697608542"
      ]
     },
     "execution_count": 13,
     "metadata": {},
     "output_type": "execute_result"
    }
   ],
   "source": [
    "# Обучим модель наивного байесовского классификатора на текстовых данных и получим accuracy для всей модели\n",
    "clf2 = MultinomialNB().fit(X_train, y_train)\n",
    "pred2 = clf2.predict(X_test)\n",
    "score2 = accuracy_score(y_test,pred2)\n",
    "score2"
   ]
  },
  {
   "cell_type": "markdown",
   "metadata": {},
   "source": [
    "неплохой результат для начала"
   ]
  },
  {
   "cell_type": "code",
   "execution_count": 11,
   "metadata": {},
   "outputs": [],
   "source": [
    "# Теперь для классификации попробуем применить метод опорных векторов \n",
    "clf_svm = LinearSVC()\n",
    "clf_svm.fit(X_train,y_train)\n",
    "y_pred_svm = clf_svm.predict(X_test)"
   ]
  },
  {
   "cell_type": "code",
   "execution_count": 12,
   "metadata": {},
   "outputs": [
    {
     "data": {
      "text/plain": [
       "0.888101269270578"
      ]
     },
     "execution_count": 12,
     "metadata": {},
     "output_type": "execute_result"
    }
   ],
   "source": [
    "accuracy_score(y_test, y_pred_svm)"
   ]
  },
  {
   "cell_type": "markdown",
   "metadata": {},
   "source": [
    "Результат уже лучше, почти 89%. Дальше попробуем добавить к обучающей выборки на цены (стобец price)."
   ]
  },
  {
   "cell_type": "code",
   "execution_count": 106,
   "metadata": {},
   "outputs": [],
   "source": [
    "# создадим новые переменные и получим ту же sparse матрицу\n",
    "ngram_counter = TfidfVectorizer()\n",
    "X_train0 = ngram_counter.fit_transform(train_text)\n",
    "X_test0 = ngram_counter.transform(test_text)\n",
    "\n",
    "# разделим эту выборку train на обучающую и тестовую, чтобы не портить основную\n",
    "X_train, X_test,y_train, y_test=train_test_split(X_train0,train['category_id'], test_size= 0.33, random_state=241)"
   ]
  },
  {
   "cell_type": "code",
   "execution_count": 16,
   "metadata": {},
   "outputs": [],
   "source": [
    "# стоблец цен преобразуем в элемент sparse и транспонируем\n",
    "from scipy import sparse\n",
    "mat_coo = sparse.coo_matrix(train['price'])\n",
    "mat_test = sparse.coo_matrix(test['price'])"
   ]
  },
  {
   "cell_type": "code",
   "execution_count": 17,
   "metadata": {},
   "outputs": [],
   "source": [
    "mat_coo = mat_coo.transpose()\n",
    "mat_test = mat_test.transpose()"
   ]
  },
  {
   "cell_type": "code",
   "execution_count": 18,
   "metadata": {},
   "outputs": [
    {
     "data": {
      "text/plain": [
       "<489517x508666 sparse matrix of type '<class 'numpy.float64'>'\n",
       "\twith 15745105 stored elements in Compressed Sparse Row format>"
      ]
     },
     "execution_count": 18,
     "metadata": {},
     "output_type": "execute_result"
    }
   ],
   "source": [
    "X_train0"
   ]
  },
  {
   "cell_type": "code",
   "execution_count": 19,
   "metadata": {},
   "outputs": [],
   "source": [
    "# добавим этот столбец цен к нашей матрице с \"мешком слов\"\n",
    "from scipy import sparse\n",
    "X_train_new=hstack((mat_coo,X_train0))\n",
    "X_test_new=hstack((mat_test,X_test0))"
   ]
  },
  {
   "cell_type": "code",
   "execution_count": 20,
   "metadata": {
    "scrolled": true
   },
   "outputs": [
    {
     "data": {
      "text/plain": [
       "<489517x508667 sparse matrix of type '<class 'numpy.float64'>'\n",
       "\twith 16234622 stored elements in COOrdinate format>"
      ]
     },
     "execution_count": 20,
     "metadata": {},
     "output_type": "execute_result"
    }
   ],
   "source": [
    "X_train_new"
   ]
  },
  {
   "cell_type": "code",
   "execution_count": 72,
   "metadata": {},
   "outputs": [],
   "source": [
    "# и обучим модель методом опорных веторов (поскольку он выдал лучшее пока значение accuracy)\n",
    "clf_svm1 = LinearSVC()\n",
    "model1 = clf_svm1.fit(X_train, y_train)"
   ]
  },
  {
   "cell_type": "code",
   "execution_count": 73,
   "metadata": {},
   "outputs": [
    {
     "data": {
      "text/plain": [
       "0.5278708394617857"
      ]
     },
     "execution_count": 73,
     "metadata": {},
     "output_type": "execute_result"
    }
   ],
   "source": [
    "# протестируем\n",
    "y_pred1 = model1.predict(X_test)\n",
    "score1= accuracy_score(y_test, y_pred1)\n",
    "score1"
   ]
  },
  {
   "cell_type": "markdown",
   "metadata": {},
   "source": [
    "Получили не очень хорошее значение, столбец цен сильно испортил классификатор, к тому же из-за добавления заполненнго вектора к sparse матрице, обучение классификатора заняло ~1,5-2 часа. далее перейдем к оценке accuracy."
   ]
  },
  {
   "cell_type": "code",
   "execution_count": 47,
   "metadata": {},
   "outputs": [],
   "source": [
    "# для этого возьмем наилучший классификатор(метод опорных вектороры, он же svm) и представим наши данные в удобном виде\n",
    "y_pred_er=[y_pred_svm[i] for i in range(len(y_pred_svm))]   # вектор предстаказанных моделью значений\n",
    "y_test_er=[y_test.iloc[i] for i in range(len(y_test))]      # вектор тестирования, где указана правильная классификация"
   ]
  },
  {
   "cell_type": "markdown",
   "metadata": {},
   "source": [
    "Инициализируем векторы правильных и неправильных значений"
   ]
  },
  {
   "cell_type": "code",
   "execution_count": 95,
   "metadata": {},
   "outputs": [],
   "source": [
    "right=[0 for i in range(54)]\n",
    "wrong=[0 for i in range(54)]"
   ]
  },
  {
   "cell_type": "markdown",
   "metadata": {},
   "source": [
    "Пройдемся по нашей выборкеи заполним вектора правильных/неправильных значений"
   ]
  },
  {
   "cell_type": "code",
   "execution_count": 97,
   "metadata": {},
   "outputs": [],
   "source": [
    "for i in range(len(y_pred_er)):\n",
    "    if y_pred_er[i] == y_test_er[i]:\n",
    "        right[y_test_er[i]] += 1\n",
    "    else:\n",
    "        wrong[y_test_er[i]] += 1"
   ]
  },
  {
   "cell_type": "code",
   "execution_count": 103,
   "metadata": {},
   "outputs": [],
   "source": [
    "#выведем accuracy для каждого класса\n",
    "accur=[0 for i in range(54)]\n",
    "for i in range(len(accur)):\n",
    "    accur[i]=right[i]/(right[i]+wrong[i])\n",
    "# где позиция в векторе accur ставится в соответствие классу"
   ]
  },
  {
   "cell_type": "code",
   "execution_count": 116,
   "metadata": {},
   "outputs": [
    {
     "data": {
      "text/html": [
       "<div>\n",
       "<style scoped>\n",
       "    .dataframe tbody tr th:only-of-type {\n",
       "        vertical-align: middle;\n",
       "    }\n",
       "\n",
       "    .dataframe tbody tr th {\n",
       "        vertical-align: top;\n",
       "    }\n",
       "\n",
       "    .dataframe thead th {\n",
       "        text-align: right;\n",
       "    }\n",
       "</style>\n",
       "<table border=\"1\" class=\"dataframe\">\n",
       "  <thead>\n",
       "    <tr style=\"text-align: right;\">\n",
       "      <th></th>\n",
       "      <th>accuracy категории</th>\n",
       "    </tr>\n",
       "  </thead>\n",
       "  <tbody>\n",
       "    <tr>\n",
       "      <th>0</th>\n",
       "      <td>0.918816</td>\n",
       "    </tr>\n",
       "    <tr>\n",
       "      <th>1</th>\n",
       "      <td>0.965844</td>\n",
       "    </tr>\n",
       "    <tr>\n",
       "      <th>2</th>\n",
       "      <td>0.914029</td>\n",
       "    </tr>\n",
       "    <tr>\n",
       "      <th>3</th>\n",
       "      <td>0.952964</td>\n",
       "    </tr>\n",
       "    <tr>\n",
       "      <th>4</th>\n",
       "      <td>0.926744</td>\n",
       "    </tr>\n",
       "    <tr>\n",
       "      <th>5</th>\n",
       "      <td>0.964023</td>\n",
       "    </tr>\n",
       "    <tr>\n",
       "      <th>6</th>\n",
       "      <td>0.823302</td>\n",
       "    </tr>\n",
       "    <tr>\n",
       "      <th>7</th>\n",
       "      <td>0.967207</td>\n",
       "    </tr>\n",
       "    <tr>\n",
       "      <th>8</th>\n",
       "      <td>0.938958</td>\n",
       "    </tr>\n",
       "    <tr>\n",
       "      <th>9</th>\n",
       "      <td>0.870184</td>\n",
       "    </tr>\n",
       "  </tbody>\n",
       "</table>\n",
       "</div>"
      ],
      "text/plain": [
       "   accuracy категории\n",
       "0            0.918816\n",
       "1            0.965844\n",
       "2            0.914029\n",
       "3            0.952964\n",
       "4            0.926744\n",
       "5            0.964023\n",
       "6            0.823302\n",
       "7            0.967207\n",
       "8            0.938958\n",
       "9            0.870184"
      ]
     },
     "execution_count": 116,
     "metadata": {},
     "output_type": "execute_result"
    }
   ],
   "source": [
    "accur_for_each= pd.DataFrame(data=accur, columns=['accuracy категории'])\n",
    "accur_for_each.head(10)"
   ]
  },
  {
   "cell_type": "markdown",
   "metadata": {},
   "source": [
    "Далее посчитаем полувручную базовые иерархии (Бытовая электроника, личные вещи и тд)"
   ]
  },
  {
   "cell_type": "code",
   "execution_count": 124,
   "metadata": {},
   "outputs": [],
   "source": [
    "accur00=sum(right[0:15])/(sum(right[0:15])+sum(wrong[0:15]))\n",
    "accur10=sum(right[15:30])/(sum(right[15:30])+sum(wrong[15:30]))\n",
    "accur20=sum(right[30:42])/(sum(right[30:42])+sum(wrong[30:42]))\n",
    "accur30=sum(right[42:])/(sum(right[42:])+sum(wrong[42:]))"
   ]
  },
  {
   "cell_type": "code",
   "execution_count": 129,
   "metadata": {},
   "outputs": [
    {
     "data": {
      "text/html": [
       "<div>\n",
       "<style scoped>\n",
       "    .dataframe tbody tr th:only-of-type {\n",
       "        vertical-align: middle;\n",
       "    }\n",
       "\n",
       "    .dataframe tbody tr th {\n",
       "        vertical-align: top;\n",
       "    }\n",
       "\n",
       "    .dataframe thead th {\n",
       "        text-align: right;\n",
       "    }\n",
       "</style>\n",
       "<table border=\"1\" class=\"dataframe\">\n",
       "  <thead>\n",
       "    <tr style=\"text-align: right;\">\n",
       "      <th></th>\n",
       "      <th>Бытовая электроника</th>\n",
       "      <th>Для дома и дачи</th>\n",
       "      <th>Личные вещи</th>\n",
       "      <th>Хобби и отдых</th>\n",
       "    </tr>\n",
       "  </thead>\n",
       "  <tbody>\n",
       "    <tr>\n",
       "      <th>0</th>\n",
       "      <td>0.934391</td>\n",
       "      <td>0.869346</td>\n",
       "      <td>0.87189</td>\n",
       "      <td>0.872659</td>\n",
       "    </tr>\n",
       "  </tbody>\n",
       "</table>\n",
       "</div>"
      ],
      "text/plain": [
       "   Бытовая электроника  Для дома и дачи  Личные вещи  Хобби и отдых\n",
       "0             0.934391         0.869346      0.87189       0.872659"
      ]
     },
     "execution_count": 129,
     "metadata": {},
     "output_type": "execute_result"
    }
   ],
   "source": [
    "accur_for_1ue = {'Бытовая электроника':[accur00],'Для дома и дачи':[accur10],'Личные вещи':[accur20],'Хобби и отдых':[accur30],}\n",
    "accur_for_1ue = pd.DataFrame(data=accur_for_1ue)\n",
    "accur_for_1ue"
   ]
  },
  {
   "cell_type": "markdown",
   "metadata": {},
   "source": [
    "Выше представлен вывод accuracy для высшей ступени иерархии. Подобным образом можно составить вывод accuracy для каждого уровня иерархии."
   ]
  },
  {
   "cell_type": "code",
   "execution_count": 132,
   "metadata": {},
   "outputs": [],
   "source": [
    "# результат скоринга файла test.csv с помощью классификатора smv\n",
    "itog = pd.DataFrame() \n",
    "itog['item_id']= test['item_id']\n",
    "itog['category_id'] = clf_svm.predict(test_word_features)\n",
    "itog.to_csv('result.csv', index=False)"
   ]
  },
  {
   "cell_type": "code",
   "execution_count": null,
   "metadata": {},
   "outputs": [],
   "source": []
  }
 ],
 "metadata": {
  "kernelspec": {
   "display_name": "Python 3",
   "language": "python",
   "name": "python3"
  },
  "language_info": {
   "codemirror_mode": {
    "name": "ipython",
    "version": 3
   },
   "file_extension": ".py",
   "mimetype": "text/x-python",
   "name": "python",
   "nbconvert_exporter": "python",
   "pygments_lexer": "ipython3",
   "version": "3.6.5"
  }
 },
 "nbformat": 4,
 "nbformat_minor": 2
}
